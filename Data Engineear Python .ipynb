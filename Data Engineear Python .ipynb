{
 "cells": [
  {
   "cell_type": "markdown",
   "metadata": {},
   "source": [
    "# DATA ENGINEER PYTHON TEST"
   ]
  },
  {
   "cell_type": "markdown",
   "metadata": {},
   "source": [
    "Problem Statement - \n",
    "\n",
    "Convert the weather data into parquet format. Set the raw group to appropriate value you see fit for this data.\n",
    "The converted data should be queryable to answer the following question.\n",
    "- Which date was the hottest day?\n",
    "- What was the temperature on that day?\n",
    "- In which region was the hottest day?\n",
    "\n",
    "Please provide the source code, tests, documentations and any assumptions you have made.\n",
    "Note: We are looking for the candidate’s “Data Engineering” ability not just the Python programming skills."
   ]
  },
  {
   "cell_type": "markdown",
   "metadata": {},
   "source": [
    "### Assumptions/Guidelines - \n",
    "\n",
    "To test the code, Input data should have the same data structure like same column names and same data types\n",
    "\n",
    "Missing value treatment - Since there are many missing values in the weather dataset we'd not be able to get the correct values for the queries like getting maximum temperature etc. Hence we need to impute those values appropriately (for numeric values - Mean and for categorical - Dictionary mapping)\n",
    "\n",
    "ObservationDate - is of Integer type. to get the exact date, we need to convert this from Integer to Date format. Using inital 10 character, we can obtain the Date. "
   ]
  },
  {
   "cell_type": "markdown",
   "metadata": {},
   "source": [
    "## Source Code with Documentation and Tests:"
   ]
  },
  {
   "cell_type": "markdown",
   "metadata": {},
   "source": [
    "### Installing all the required library using pip command"
   ]
  },
  {
   "cell_type": "code",
   "execution_count": 10,
   "metadata": {},
   "outputs": [],
   "source": [
    "# In order to achieve the given results we need to install below packages\n",
    "pip install pandas\n",
    "pip install pyarrow"
   ]
  },
  {
   "cell_type": "markdown",
   "metadata": {},
   "source": [
    "### Importing libraries "
   ]
  },
  {
   "cell_type": "code",
   "execution_count": 2,
   "metadata": {},
   "outputs": [],
   "source": [
    "# Doing Dataframe related operation like reading from csv and describing the data we need to load Pandas\n",
    "import pandas as pd \n",
    "# Import library to help convert from csv to parquet format\n",
    "import pyarrow"
   ]
  },
  {
   "cell_type": "code",
   "execution_count": 3,
   "metadata": {},
   "outputs": [],
   "source": [
    "# path for the weather.csv file in the system\n",
    "csv_path = './weather.20160201.csv'"
   ]
  },
  {
   "cell_type": "code",
   "execution_count": 4,
   "metadata": {},
   "outputs": [],
   "source": [
    "# Read the csv file into python using python\n",
    "weather_pd = pd.read_csv(csv_path)"
   ]
  },
  {
   "cell_type": "code",
   "execution_count": 5,
   "metadata": {},
   "outputs": [
    {
     "data": {
      "text/html": [
       "<div>\n",
       "<style scoped>\n",
       "    .dataframe tbody tr th:only-of-type {\n",
       "        vertical-align: middle;\n",
       "    }\n",
       "\n",
       "    .dataframe tbody tr th {\n",
       "        vertical-align: top;\n",
       "    }\n",
       "\n",
       "    .dataframe thead th {\n",
       "        text-align: right;\n",
       "    }\n",
       "</style>\n",
       "<table border=\"1\" class=\"dataframe\">\n",
       "  <thead>\n",
       "    <tr style=\"text-align: right;\">\n",
       "      <th></th>\n",
       "      <th>ForecastSiteCode</th>\n",
       "      <th>ObservationTime</th>\n",
       "      <th>ObservationDate</th>\n",
       "      <th>WindDirection</th>\n",
       "      <th>WindSpeed</th>\n",
       "      <th>WindGust</th>\n",
       "      <th>Visibility</th>\n",
       "      <th>ScreenTemperature</th>\n",
       "      <th>Pressure</th>\n",
       "      <th>SignificantWeatherCode</th>\n",
       "      <th>SiteName</th>\n",
       "      <th>Latitude</th>\n",
       "      <th>Longitude</th>\n",
       "      <th>Region</th>\n",
       "      <th>Country</th>\n",
       "    </tr>\n",
       "  </thead>\n",
       "  <tbody>\n",
       "    <tr>\n",
       "      <th>0</th>\n",
       "      <td>3002</td>\n",
       "      <td>0</td>\n",
       "      <td>2016-02-01T00:00:00</td>\n",
       "      <td>12</td>\n",
       "      <td>8</td>\n",
       "      <td>NaN</td>\n",
       "      <td>30000.0</td>\n",
       "      <td>2.1</td>\n",
       "      <td>997.0</td>\n",
       "      <td>8</td>\n",
       "      <td>BALTASOUND (3002)</td>\n",
       "      <td>60.749</td>\n",
       "      <td>-0.854</td>\n",
       "      <td>Orkney &amp; Shetland</td>\n",
       "      <td>SCOTLAND</td>\n",
       "    </tr>\n",
       "    <tr>\n",
       "      <th>1</th>\n",
       "      <td>3005</td>\n",
       "      <td>0</td>\n",
       "      <td>2016-02-01T00:00:00</td>\n",
       "      <td>10</td>\n",
       "      <td>2</td>\n",
       "      <td>NaN</td>\n",
       "      <td>35000.0</td>\n",
       "      <td>0.1</td>\n",
       "      <td>997.0</td>\n",
       "      <td>7</td>\n",
       "      <td>LERWICK (S. SCREEN) (3005)</td>\n",
       "      <td>60.139</td>\n",
       "      <td>-1.183</td>\n",
       "      <td>Orkney &amp; Shetland</td>\n",
       "      <td>SCOTLAND</td>\n",
       "    </tr>\n",
       "    <tr>\n",
       "      <th>2</th>\n",
       "      <td>3008</td>\n",
       "      <td>0</td>\n",
       "      <td>2016-02-01T00:00:00</td>\n",
       "      <td>8</td>\n",
       "      <td>6</td>\n",
       "      <td>NaN</td>\n",
       "      <td>50000.0</td>\n",
       "      <td>2.8</td>\n",
       "      <td>997.0</td>\n",
       "      <td>-99</td>\n",
       "      <td>FAIR ISLE (3008)</td>\n",
       "      <td>59.530</td>\n",
       "      <td>-1.630</td>\n",
       "      <td>Orkney &amp; Shetland</td>\n",
       "      <td>NaN</td>\n",
       "    </tr>\n",
       "    <tr>\n",
       "      <th>3</th>\n",
       "      <td>3017</td>\n",
       "      <td>0</td>\n",
       "      <td>2016-02-01T00:00:00</td>\n",
       "      <td>6</td>\n",
       "      <td>8</td>\n",
       "      <td>NaN</td>\n",
       "      <td>40000.0</td>\n",
       "      <td>1.6</td>\n",
       "      <td>996.0</td>\n",
       "      <td>8</td>\n",
       "      <td>KIRKWALL (3017)</td>\n",
       "      <td>58.954</td>\n",
       "      <td>-2.900</td>\n",
       "      <td>Orkney &amp; Shetland</td>\n",
       "      <td>SCOTLAND</td>\n",
       "    </tr>\n",
       "    <tr>\n",
       "      <th>4</th>\n",
       "      <td>3023</td>\n",
       "      <td>0</td>\n",
       "      <td>2016-02-01T00:00:00</td>\n",
       "      <td>10</td>\n",
       "      <td>30</td>\n",
       "      <td>37.0</td>\n",
       "      <td>2600.0</td>\n",
       "      <td>9.8</td>\n",
       "      <td>991.0</td>\n",
       "      <td>11</td>\n",
       "      <td>SOUTH UIST RANGE (3023)</td>\n",
       "      <td>57.358</td>\n",
       "      <td>-7.397</td>\n",
       "      <td>Highland &amp; Eilean Siar</td>\n",
       "      <td>SCOTLAND</td>\n",
       "    </tr>\n",
       "  </tbody>\n",
       "</table>\n",
       "</div>"
      ],
      "text/plain": [
       "   ForecastSiteCode  ObservationTime      ObservationDate  WindDirection  \\\n",
       "0              3002                0  2016-02-01T00:00:00             12   \n",
       "1              3005                0  2016-02-01T00:00:00             10   \n",
       "2              3008                0  2016-02-01T00:00:00              8   \n",
       "3              3017                0  2016-02-01T00:00:00              6   \n",
       "4              3023                0  2016-02-01T00:00:00             10   \n",
       "\n",
       "   WindSpeed  WindGust  Visibility  ScreenTemperature  Pressure  \\\n",
       "0          8       NaN     30000.0                2.1     997.0   \n",
       "1          2       NaN     35000.0                0.1     997.0   \n",
       "2          6       NaN     50000.0                2.8     997.0   \n",
       "3          8       NaN     40000.0                1.6     996.0   \n",
       "4         30      37.0      2600.0                9.8     991.0   \n",
       "\n",
       "   SignificantWeatherCode                    SiteName  Latitude  Longitude  \\\n",
       "0                       8           BALTASOUND (3002)    60.749     -0.854   \n",
       "1                       7  LERWICK (S. SCREEN) (3005)    60.139     -1.183   \n",
       "2                     -99            FAIR ISLE (3008)    59.530     -1.630   \n",
       "3                       8             KIRKWALL (3017)    58.954     -2.900   \n",
       "4                      11     SOUTH UIST RANGE (3023)    57.358     -7.397   \n",
       "\n",
       "                   Region   Country  \n",
       "0       Orkney & Shetland  SCOTLAND  \n",
       "1       Orkney & Shetland  SCOTLAND  \n",
       "2       Orkney & Shetland       NaN  \n",
       "3       Orkney & Shetland  SCOTLAND  \n",
       "4  Highland & Eilean Siar  SCOTLAND  "
      ]
     },
     "execution_count": 5,
     "metadata": {},
     "output_type": "execute_result"
    }
   ],
   "source": [
    "# Sample of weather data \n",
    "weather_pd.head(5)"
   ]
  },
  {
   "cell_type": "code",
   "execution_count": 6,
   "metadata": {},
   "outputs": [
    {
     "data": {
      "text/plain": [
       "(93255, 15)"
      ]
     },
     "execution_count": 6,
     "metadata": {},
     "output_type": "execute_result"
    }
   ],
   "source": [
    "# Check the dimension of the weather data [row, columns]\n",
    "weather_pd.shape"
   ]
  },
  {
   "cell_type": "code",
   "execution_count": 7,
   "metadata": {},
   "outputs": [
    {
     "name": "stdout",
     "output_type": "stream",
     "text": [
      "       ForecastSiteCode  ObservationTime  WindDirection     WindSpeed  \\\n",
      "count      93255.000000     93255.000000   93255.000000  93255.000000   \n",
      "mean        4724.903673        11.520412       9.142695      9.817297   \n",
      "std        11058.434533         6.940482       4.268251     21.316042   \n",
      "min         3002.000000         0.000000       0.000000    -99.000000   \n",
      "25%         3166.000000         5.000000       7.000000      6.000000   \n",
      "50%         3385.000000        12.000000      10.000000     11.000000   \n",
      "75%         3740.000000        18.000000      12.000000     17.000000   \n",
      "max        99214.000000        23.000000      16.000000    105.000000   \n",
      "\n",
      "           WindGust    Visibility  ScreenTemperature      Pressure  \\\n",
      "count  27093.000000  80542.000000       93255.000000  86556.000000   \n",
      "mean      38.181781  26029.960890           3.005259   1006.854487   \n",
      "std       11.116764  14635.844332          12.109166     14.499151   \n",
      "min        0.000000     20.000000         -99.000000    961.000000   \n",
      "25%       31.000000  15000.000000           1.900000    997.000000   \n",
      "50%       36.000000  25000.000000           4.300000   1009.000000   \n",
      "75%       43.000000  35000.000000           6.600000   1017.000000   \n",
      "max      149.000000  75000.000000          15.600000   1036.000000   \n",
      "\n",
      "       SignificantWeatherCode      Latitude     Longitude  \n",
      "count            93255.000000  93255.000000  93255.000000  \n",
      "mean                -7.116315     53.815688     -2.764828  \n",
      "std                 35.121523      2.416302      2.094725  \n",
      "min                -99.000000     49.913000     -7.577000  \n",
      "25%                  1.000000     51.680000     -4.149000  \n",
      "50%                  7.000000     53.307000     -2.800000  \n",
      "75%                  8.000000     55.311000     -1.183000  \n",
      "max                 28.000000     60.749000      1.348000  \n"
     ]
    }
   ],
   "source": [
    "# Describe the data to see the distribution of each variable \n",
    "print(weather_pd.describe())"
   ]
  },
  {
   "cell_type": "markdown",
   "metadata": {},
   "source": [
    "### Missing values - Treatment"
   ]
  },
  {
   "cell_type": "code",
   "execution_count": 8,
   "metadata": {},
   "outputs": [
    {
     "data": {
      "text/plain": [
       "ForecastSiteCode              0\n",
       "ObservationTime               0\n",
       "ObservationDate               0\n",
       "WindDirection                 0\n",
       "WindSpeed                     0\n",
       "WindGust                  66162\n",
       "Visibility                12713\n",
       "ScreenTemperature             0\n",
       "Pressure                   6699\n",
       "SignificantWeatherCode        0\n",
       "SiteName                      0\n",
       "Latitude                      0\n",
       "Longitude                     0\n",
       "Region                        0\n",
       "Country                   13101\n",
       "dtype: int64"
      ]
     },
     "execution_count": 8,
     "metadata": {},
     "output_type": "execute_result"
    }
   ],
   "source": [
    "# check how many missing values are there in the weather dataset\n",
    "weather_pd.isna().sum()"
   ]
  },
  {
   "cell_type": "markdown",
   "metadata": {},
   "source": [
    "#### Replacing missing values with sensible values "
   ]
  },
  {
   "cell_type": "code",
   "execution_count": 9,
   "metadata": {},
   "outputs": [],
   "source": [
    "# Imputing WindGust with it's mean value\n",
    "weather_pd['WindGust'].fillna(weather_pd['WindGust'].mean(), inplace=True)"
   ]
  },
  {
   "cell_type": "code",
   "execution_count": 10,
   "metadata": {},
   "outputs": [],
   "source": [
    "# Imputing Visibility with it's mean value\n",
    "weather_pd['Visibility'].fillna(weather_pd['Visibility'].mean(), inplace=True)"
   ]
  },
  {
   "cell_type": "code",
   "execution_count": 11,
   "metadata": {},
   "outputs": [],
   "source": [
    "# Imputing Pressure with it's mean value\n",
    "weather_pd['Pressure'].fillna(weather_pd['Pressure'].mean(), inplace=True)"
   ]
  },
  {
   "cell_type": "code",
   "execution_count": 12,
   "metadata": {},
   "outputs": [
    {
     "data": {
      "text/plain": [
       "{'Orkney & Shetland': 'SCOTLAND',\n",
       " 'Highland & Eilean Siar': 'SCOTLAND',\n",
       " 'Grampian': 'SCOTLAND',\n",
       " 'Strathclyde': 'SCOTLAND',\n",
       " 'Central Tayside & Fife': 'SCOTLAND',\n",
       " 'Dumfries, Galloway': 'SCOTLAND',\n",
       " 'Northern Ireland': 'NORTHERN IRELAND',\n",
       " 'Wales': 'WALES',\n",
       " 'North West England': 'ENGLAND',\n",
       " 'North East England': 'ENGLAND',\n",
       " 'Yorkshire & Humber': 'ENGLAND',\n",
       " 'West Midlands': 'ENGLAND',\n",
       " 'East Midlands': 'ENGLAND',\n",
       " 'East of England': 'ENGLAND',\n",
       " 'South West England': 'ENGLAND',\n",
       " 'London & South East England': 'ENGLAND'}"
      ]
     },
     "execution_count": 12,
     "metadata": {},
     "output_type": "execute_result"
    }
   ],
   "source": [
    "# Country is the categorical variable which we can fill using it's correspoding region\n",
    "# Since, Region to country mapping is already present in the weather data, use it to form a dictionary\n",
    "\n",
    "# Let's drop all rows with missing country to avoid getting any NAN's and to get proper mapping between Region with country\n",
    "pd_without_NAN = weather_pd[['Region','Country']].dropna()\n",
    "# Create the dictionary using zip \n",
    "region_to_country_dict = dict(zip(pd_without_NAN.Region,pd_without_NAN.Country))\n",
    "# Show the dictionary\n",
    "region_to_country_dict"
   ]
  },
  {
   "cell_type": "code",
   "execution_count": 13,
   "metadata": {},
   "outputs": [],
   "source": [
    "# Replace missing countries based on above Region to country mapping using map \n",
    "weather_pd['Country'] = weather_pd['Region'].map(region_to_country_dict)"
   ]
  },
  {
   "cell_type": "code",
   "execution_count": 14,
   "metadata": {},
   "outputs": [
    {
     "data": {
      "text/plain": [
       "ForecastSiteCode          0\n",
       "ObservationTime           0\n",
       "ObservationDate           0\n",
       "WindDirection             0\n",
       "WindSpeed                 0\n",
       "WindGust                  0\n",
       "Visibility                0\n",
       "ScreenTemperature         0\n",
       "Pressure                  0\n",
       "SignificantWeatherCode    0\n",
       "SiteName                  0\n",
       "Latitude                  0\n",
       "Longitude                 0\n",
       "Region                    0\n",
       "Country                   0\n",
       "dtype: int64"
      ]
     },
     "execution_count": 14,
     "metadata": {},
     "output_type": "execute_result"
    }
   ],
   "source": [
    "# Check for any missing values, it should be 0 by now.\n",
    "weather_pd.isna().sum()"
   ]
  },
  {
   "cell_type": "markdown",
   "metadata": {},
   "source": [
    "### Convert the csv file to Parquet format using pandas and pyarrow"
   ]
  },
  {
   "cell_type": "code",
   "execution_count": 15,
   "metadata": {},
   "outputs": [],
   "source": [
    "# Saving the processed data\n",
    "weather_pd.to_parquet('weather.parquet')"
   ]
  },
  {
   "cell_type": "markdown",
   "metadata": {},
   "source": [
    "### Reading from parquet file"
   ]
  },
  {
   "cell_type": "code",
   "execution_count": 16,
   "metadata": {},
   "outputs": [
    {
     "name": "stdout",
     "output_type": "stream",
     "text": [
      "Rows and columns of the weather parquet data : (93255, 15)\n",
      "\n",
      "Column name of the weather parquet data : ['ForecastSiteCode' 'ObservationTime' 'ObservationDate' 'WindDirection'\n",
      " 'WindSpeed' 'WindGust' 'Visibility' 'ScreenTemperature' 'Pressure'\n",
      " 'SignificantWeatherCode' 'SiteName' 'Latitude' 'Longitude' 'Region'\n",
      " 'Country']\n"
     ]
    }
   ],
   "source": [
    "weather_pd_parquet = pd.read_parquet('weather.parquet', engine='pyarrow')\n",
    "print('Rows and columns of the weather parquet data :',weather_pd_parquet.shape)\n",
    "\n",
    "print('\\nColumn name of the weather parquet data :', weather_pd_parquet.columns.values)"
   ]
  },
  {
   "cell_type": "markdown",
   "metadata": {},
   "source": [
    "### Queires for the following questions"
   ]
  },
  {
   "cell_type": "code",
   "execution_count": 17,
   "metadata": {},
   "outputs": [],
   "source": [
    "# Converting Datetime to Date format by extracting first 10 characters of this integer\n",
    "# Apply function help achieve this for all the rows at the same time\n",
    "weather_pd_parquet['ObservationDate'] = weather_pd_parquet.ObservationDate.apply(lambda x: x[0:10])"
   ]
  },
  {
   "cell_type": "code",
   "execution_count": 18,
   "metadata": {},
   "outputs": [
    {
     "name": "stdout",
     "output_type": "stream",
     "text": [
      "Which date was the hottest day?  [['2016-02-21']]\n"
     ]
    }
   ],
   "source": [
    "# Which date was the hottest day?\n",
    "# Using the hottest day index we can extract its ObservationDate\n",
    "hottest_day = weather_pd_parquet.loc[weather_pd_parquet[['ScreenTemperature']].idxmax(), ['ObservationDate']].values\n",
    "print('Which date was the hottest day? ',hottest_day)"
   ]
  },
  {
   "cell_type": "code",
   "execution_count": 19,
   "metadata": {},
   "outputs": [
    {
     "name": "stdout",
     "output_type": "stream",
     "text": [
      "What was the temperature on that day?  [[15.6]]\n"
     ]
    }
   ],
   "source": [
    "# What was the temperature on that day?\n",
    "# Using the hottest day index we can extract its ScreenTemperature\n",
    "hottest_temp = weather_pd_parquet.loc[weather_pd_parquet[['ScreenTemperature']].idxmax(), ['ScreenTemperature']].values\n",
    "print('What was the temperature on that day? ',hottest_temp)"
   ]
  },
  {
   "cell_type": "code",
   "execution_count": 20,
   "metadata": {},
   "outputs": [
    {
     "name": "stdout",
     "output_type": "stream",
     "text": [
      "In which region was the hottest day?  [['South West England']]\n"
     ]
    }
   ],
   "source": [
    "# In which region was the hottest day?\n",
    "# Using the hottest day index we can extract its Region\n",
    "hottest_region = weather_pd_parquet.loc[weather_pd_parquet[['ScreenTemperature']].idxmax(), ['Region']].values\n",
    "print('In which region was the hottest day? ',hottest_region)"
   ]
  },
  {
   "cell_type": "code",
   "execution_count": 21,
   "metadata": {},
   "outputs": [
    {
     "data": {
      "text/html": [
       "<div>\n",
       "<style scoped>\n",
       "    .dataframe tbody tr th:only-of-type {\n",
       "        vertical-align: middle;\n",
       "    }\n",
       "\n",
       "    .dataframe tbody tr th {\n",
       "        vertical-align: top;\n",
       "    }\n",
       "\n",
       "    .dataframe thead th {\n",
       "        text-align: right;\n",
       "    }\n",
       "</style>\n",
       "<table border=\"1\" class=\"dataframe\">\n",
       "  <thead>\n",
       "    <tr style=\"text-align: right;\">\n",
       "      <th></th>\n",
       "      <th>ObservationDate</th>\n",
       "      <th>ScreenTemperature</th>\n",
       "      <th>Region</th>\n",
       "    </tr>\n",
       "  </thead>\n",
       "  <tbody>\n",
       "    <tr>\n",
       "      <th>65916</th>\n",
       "      <td>2016-02-21</td>\n",
       "      <td>15.6</td>\n",
       "      <td>South West England</td>\n",
       "    </tr>\n",
       "  </tbody>\n",
       "</table>\n",
       "</div>"
      ],
      "text/plain": [
       "      ObservationDate  ScreenTemperature              Region\n",
       "65916      2016-02-21               15.6  South West England"
      ]
     },
     "execution_count": 21,
     "metadata": {},
     "output_type": "execute_result"
    }
   ],
   "source": [
    "#  To get all the answers in a single line of code -\n",
    "weather_pd_parquet.loc[weather_pd_parquet[['ScreenTemperature']].idxmax(), ['ObservationDate','ScreenTemperature','Region']]"
   ]
  }
 ],
 "metadata": {
  "kernelspec": {
   "display_name": "Python 3",
   "language": "python",
   "name": "python3"
  },
  "language_info": {
   "codemirror_mode": {
    "name": "ipython",
    "version": 3
   },
   "file_extension": ".py",
   "mimetype": "text/x-python",
   "name": "python",
   "nbconvert_exporter": "python",
   "pygments_lexer": "ipython3",
   "version": "3.7.6"
  }
 },
 "nbformat": 4,
 "nbformat_minor": 4
}
